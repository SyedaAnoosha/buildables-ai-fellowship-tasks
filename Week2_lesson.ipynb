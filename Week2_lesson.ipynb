{
  "cells": [
    {
      "cell_type": "markdown",
      "id": "bf6da588",
      "metadata": {
        "id": "bf6da588"
      },
      "source": [
        "# **Buckle Up ! We are starting our week 2 roller coaster**\n",
        "\n",
        "In our first week we covered some theoritical concepts and completed our setup so its time we start building!"
      ]
    },
    {
      "cell_type": "markdown",
      "id": "ca6b55c5",
      "metadata": {
        "id": "ca6b55c5"
      },
      "source": [
        "## 📓**Conversational AI Concepts & Model Pipelines**"
      ]
    },
    {
      "cell_type": "markdown",
      "id": "f1b7ace2",
      "metadata": {
        "id": "f1b7ace2"
      },
      "source": [
        "🎯 By the end of this week, you will:\n",
        "\n",
        "- Understand LLMs, STT, TTS models and their roles.\n",
        "\n",
        "- Know how to connect to LLMs with APIs (Groq as example).\n",
        "\n",
        "- Use Python (requests + JSON) for API interaction.\n",
        "\n",
        "- Start building a basic chatbot with memory and preprocessing."
      ]
    },
    {
      "cell_type": "markdown",
      "id": "8e3c5144",
      "metadata": {
        "id": "8e3c5144"
      },
      "source": [
        "---\n",
        "\n",
        "## 🌟 Large Language Models (LLMs) 🌟"
      ]
    },
    {
      "cell_type": "markdown",
      "id": "03968dc4",
      "metadata": {
        "id": "03968dc4"
      },
      "source": [
        "---\n",
        "\n",
        "### ❗ **Question 1**: What is an LLM?"
      ]
    },
    {
      "cell_type": "markdown",
      "id": "9dd894fc",
      "metadata": {
        "id": "9dd894fc"
      },
      "source": [
        "👉 It’s like a super-smart text predictor that can read, understand, and generate human-like sentences.\n",
        "\n",
        "You give it some words → it guesses the next words in a way that makes sense.\n",
        "\n",
        "For example:\n",
        "\n",
        "1) You ask a question → it gives you an answer.\n",
        "\n",
        "2) You write a sentence → it can complete it.\n",
        "\n",
        "3) You give it a topic → it can write an essay, code, or even a story.\n",
        "\n",
        "So, its a type of AI trained on huge amounts of text data to generate or understand text.\n",
        "\n",
        "---"
      ]
    },
    {
      "cell_type": "markdown",
      "id": "77076ddc",
      "metadata": {
        "id": "77076ddc"
      },
      "source": [
        "### Types of LLMs\n",
        "\n",
        "1. Encoder-only models (e.g., BERT)\n",
        "\n",
        "    - Best for understanding text (classification, sentiment analysis, embeddings).\n",
        "\n",
        "    - ❌ Not good at generating text.\n",
        "\n",
        "2. Decoder-only models (e.g., GPT, LLaMA, Mistral)\n",
        "\n",
        "    - Best for text generation (chatbots, writing, summarization).\n",
        "\n",
        "    - What we use in chatbots.\n",
        "\n",
        "3. Encoder-decoder models (e.g., T5, BART)\n",
        "\n",
        "    - Good at transforming text (translation, summarization, Q&A)."
      ]
    },
    {
      "cell_type": "markdown",
      "id": "339099fe",
      "metadata": {
        "id": "339099fe"
      },
      "source": [
        "### Must-Knows about LLMs\n",
        "\n",
        "- They don’t “think” like humans → They predict text based on training.\n",
        "\n",
        "- Garbage in → garbage out: Poor prompts = poor answers.\n",
        "\n",
        "- Token limits: Models can only “see” a certain number of words at a time.\n",
        "\n",
        "- Biases: Trained on internet text → may reflect biases/errors."
      ]
    },
    {
      "cell_type": "markdown",
      "id": "8b1b2dd4",
      "metadata": {
        "id": "8b1b2dd4"
      },
      "source": [
        "### 💡 **Quick Questions**:"
      ]
    },
    {
      "cell_type": "markdown",
      "id": "7753565a",
      "metadata": {
        "id": "7753565a"
      },
      "source": [
        "1. Why might a chatbot built on BERT (encoder-only) struggle to answer open-ended questions?\n",
        "\n",
        "- Answer 👉 Because BERT is encoder-only, its built to understand and classify text, not generate it so it struggles as a chatbot."
      ]
    },
    {
      "cell_type": "markdown",
      "id": "a5feffca",
      "metadata": {
        "id": "a5feffca"
      },
      "source": [
        "---\n",
        "\n",
        "## 🌟 Speech-to-Text (STT) 🌟"
      ]
    },
    {
      "cell_type": "markdown",
      "id": "9393abf7",
      "metadata": {
        "id": "9393abf7"
      },
      "source": [
        "---\n",
        "\n",
        "### ❗ **Question 2**: What is STT?"
      ]
    },
    {
      "cell_type": "markdown",
      "id": "3f54ac00",
      "metadata": {
        "id": "3f54ac00"
      },
      "source": [
        "👉 listens to your voice and turns it into written text.\n",
        "\n",
        "- Converts **audio → text**.\n",
        "- Enables voice input for conversational AI.\n",
        "- Think of it as the **ears** of the chatbot.\n",
        "\n",
        "**Popular STT Models**:\n",
        "\n",
        "1) **Whisper (OpenAI)** – strong at multilingual speech recognition.\n",
        "2) **Google Speech-to-Text API** – widely used, real-time transcription.\n",
        "3) **Vosk** – lightweight, offline speech recognition.\n",
        "\n",
        "**Common Usages**\n",
        "\n",
        "1) Voice assistants (Alexa, Siri, Google Assistant).\n",
        "2) Automated captions in meetings or lectures.\n",
        "3) Voice-enabled customer support.\n",
        "\n",
        "---"
      ]
    },
    {
      "cell_type": "markdown",
      "id": "cc99714c",
      "metadata": {
        "id": "cc99714c"
      },
      "source": [
        "### Must-Knows about STT\n",
        "\n",
        "- Accuracy depends on **noise, accents, clarity of speech**.\n",
        "\n",
        "- Some models need **internet connection** (API-based), others run **offline**.\n",
        "\n",
        "- Preprocessing audio (noise reduction) improves results.\n"
      ]
    },
    {
      "cell_type": "markdown",
      "id": "ec23bf9a",
      "metadata": {
        "id": "ec23bf9a"
      },
      "source": [
        "### 💡 **Quick Questions**:"
      ]
    },
    {
      "cell_type": "markdown",
      "id": "407d8a82",
      "metadata": {
        "id": "407d8a82"
      },
      "source": [
        "2. Why do you think meeting transcription apps like Zoom or Google Meet struggle when multiple people talk at once?\n",
        "\n",
        "- Answer 👉 When people talk simultaneously, the AI struggles to differentiate between voices. Background noise and different accents makes it even harder to transcribe."
      ]
    },
    {
      "cell_type": "markdown",
      "id": "f2959a81",
      "metadata": {
        "id": "f2959a81"
      },
      "source": [
        "---\n",
        "\n",
        "## 🌟 Text-to-Speech (TTS) 🌟"
      ]
    },
    {
      "cell_type": "markdown",
      "id": "6650b62d",
      "metadata": {
        "id": "6650b62d"
      },
      "source": [
        "---\n",
        "\n",
        "### ❗ **Question 3**: What is TTS?"
      ]
    },
    {
      "cell_type": "markdown",
      "metadata": {
        "id": "2z5-G76SrjzD"
      },
      "source": [
        "👉 takes written text and speaks it out loud in a human-like voice.\n",
        "\n",
        "- Converts **text → audio (speech)**.\n",
        "- Think of it as the **mouth** of the chatbot.\n",
        "- Makes AI “speak” naturally.\n",
        "\n",
        "**Popular TTS Models**:\n",
        "\n",
        "1) **Google TTS** – supports many languages and voices.\n",
        "2) **Amazon Polly** – lifelike voice synthesis with customization.\n",
        "3) **ElevenLabs** – cutting-edge, realistic voice cloning.\n",
        "\n",
        "**Common Usages**\n",
        "\n",
        "1) Screen readers for visually impaired users.\n",
        "2) AI chatbots with voice output.\n",
        "3) Audiobooks or podcast generation.\n",
        "\n",
        "---"
      ],
      "id": "2z5-G76SrjzD"
    },
    {
      "cell_type": "markdown",
      "id": "cfdb2471",
      "metadata": {
        "id": "cfdb2471"
      },
      "source": [
        "### Must-Knows about TTS\n",
        "\n",
        "- Some voices sound robotic; others use **neural TTS** for natural tones.\n",
        "\n",
        "- Latency matters → If too slow, conversation feels unnatural.\n",
        "\n",
        "- Some TTS services allow **custom voices**."
      ]
    },
    {
      "cell_type": "markdown",
      "id": "ee49cb51",
      "metadata": {
        "id": "ee49cb51"
      },
      "source": [
        "### 💡 **Quick Questions**:"
      ]
    },
    {
      "cell_type": "markdown",
      "id": "ee8f3eb2",
      "metadata": {
        "id": "ee8f3eb2"
      },
      "source": [
        "3. If you were designing a voice-based AI tutor, what qualities would you want in its TTS voice (tone, speed, clarity, etc.)?\n",
        "\n",
        "- Answer 👉 I would go for a soft and friendly tone, with clear pronunciation and adjustable speed. I’d also add options for multiple languages which would be accesible for everyone."
      ]
    },
    {
      "cell_type": "markdown",
      "id": "8042c582",
      "metadata": {
        "id": "8042c582"
      },
      "source": [
        "---\n",
        "\n",
        "## 🌟 Using APIs for LLMs with Groq 🌟"
      ]
    },
    {
      "cell_type": "code",
      "source": [
        "!pip install groq"
      ],
      "metadata": {
        "colab": {
          "base_uri": "https://localhost:8080/"
        },
        "id": "83RENqj4-m6V",
        "outputId": "8bea6eb7-b676-4b86-cfa8-c1e9c2cb7c99"
      },
      "id": "83RENqj4-m6V",
      "execution_count": 12,
      "outputs": [
        {
          "output_type": "stream",
          "name": "stdout",
          "text": [
            "Collecting groq\n",
            "  Downloading groq-0.31.0-py3-none-any.whl.metadata (16 kB)\n",
            "Requirement already satisfied: anyio<5,>=3.5.0 in /usr/local/lib/python3.12/dist-packages (from groq) (4.10.0)\n",
            "Requirement already satisfied: distro<2,>=1.7.0 in /usr/local/lib/python3.12/dist-packages (from groq) (1.9.0)\n",
            "Requirement already satisfied: httpx<1,>=0.23.0 in /usr/local/lib/python3.12/dist-packages (from groq) (0.28.1)\n",
            "Requirement already satisfied: pydantic<3,>=1.9.0 in /usr/local/lib/python3.12/dist-packages (from groq) (2.11.7)\n",
            "Requirement already satisfied: sniffio in /usr/local/lib/python3.12/dist-packages (from groq) (1.3.1)\n",
            "Requirement already satisfied: typing-extensions<5,>=4.10 in /usr/local/lib/python3.12/dist-packages (from groq) (4.15.0)\n",
            "Requirement already satisfied: idna>=2.8 in /usr/local/lib/python3.12/dist-packages (from anyio<5,>=3.5.0->groq) (3.10)\n",
            "Requirement already satisfied: certifi in /usr/local/lib/python3.12/dist-packages (from httpx<1,>=0.23.0->groq) (2025.8.3)\n",
            "Requirement already satisfied: httpcore==1.* in /usr/local/lib/python3.12/dist-packages (from httpx<1,>=0.23.0->groq) (1.0.9)\n",
            "Requirement already satisfied: h11>=0.16 in /usr/local/lib/python3.12/dist-packages (from httpcore==1.*->httpx<1,>=0.23.0->groq) (0.16.0)\n",
            "Requirement already satisfied: annotated-types>=0.6.0 in /usr/local/lib/python3.12/dist-packages (from pydantic<3,>=1.9.0->groq) (0.7.0)\n",
            "Requirement already satisfied: pydantic-core==2.33.2 in /usr/local/lib/python3.12/dist-packages (from pydantic<3,>=1.9.0->groq) (2.33.2)\n",
            "Requirement already satisfied: typing-inspection>=0.4.0 in /usr/local/lib/python3.12/dist-packages (from pydantic<3,>=1.9.0->groq) (0.4.1)\n",
            "Downloading groq-0.31.0-py3-none-any.whl (131 kB)\n",
            "\u001b[2K   \u001b[90m━━━━━━━━━━━━━━━━━━━━━━━━━━━━━━━━━━━━━━━━\u001b[0m \u001b[32m131.4/131.4 kB\u001b[0m \u001b[31m3.1 MB/s\u001b[0m eta \u001b[36m0:00:00\u001b[0m\n",
            "\u001b[?25hInstalling collected packages: groq\n",
            "Successfully installed groq-0.31.0\n"
          ]
        }
      ]
    },
    {
      "cell_type": "code",
      "source": [
        "from google.colab import userdata\n",
        "\n",
        "GROQ_API_KEY=userdata.get(\"GROQ_API_KEY\")"
      ],
      "metadata": {
        "id": "qiuJqWTZ-GAM"
      },
      "id": "qiuJqWTZ-GAM",
      "execution_count": 13,
      "outputs": []
    },
    {
      "cell_type": "code",
      "execution_count": 14,
      "id": "7889d8ee",
      "metadata": {
        "colab": {
          "base_uri": "https://localhost:8080/"
        },
        "id": "7889d8ee",
        "outputId": "dcbf8ae5-0d3e-4407-cb76-200fd01f1bae"
      },
      "outputs": [
        {
          "output_type": "stream",
          "name": "stdout",
          "text": [
            "Conversational AI, also known as conversational interface or chatbots, is a type of artificial intelligence (AI) that enables machines to have interactions with humans through natural language conversations. It uses a combination of natural language processing (NLP), machine learning (ML), and dialog management to understand, interpret, and respond to user inputs.\n",
            "\n",
            "Conversational AI systems aim to simulate human-like conversations, enabling users to interact with them as they would with a human being. This can take various forms, such as:\n",
            "\n",
            "1. Chatbots and virtual assistants, like Siri, Alexa, or Google Assistant, that can answer questions, provide information, or perform tasks.\n",
            "2. Social media interfaces that allow users to interact with companies or services through messaging platforms.\n",
            "3. Customer service chatbots that help resolve customer inquiries and issues.\n",
            "4. Voice assistants integrated into home devices, cars, or other smart devices.\n",
            "\n",
            "Conversational AI relies on the following key technologies:\n",
            "\n",
            "1. **Natural Language Processing (NLP)**: Enables the system to understand, analyze, and interpret human language.\n",
            "2. **Machine Learning (ML)**: Allows the system to learn from user interactions and improve its responses over time.\n",
            "3. **Dialog Management**: Controls the flow of conversation, ensuring that the system responds coherently and engages the user.\n",
            "4. **Knowledge Graphs**: Store and organize vast amounts of information to provide accurate and up-to-date responses.\n",
            "\n",
            "The benefits of conversational AI include:\n",
            "\n",
            "1. **Convenience**: Provides 24/7 access to information and assistance.\n",
            "2. **Efficiency**: Streamlines complex processes and reduces the need for human intervention.\n",
            "3. **Personalization**: Offers tailored responses and recommendations.\n",
            "4. **Scalability**: Handles multiple user interactions simultaneously.\n",
            "\n",
            "However, conversational AI also faces challenges, such as:\n",
            "\n",
            "1. **Understanding ambiguity**: Navigating uncertain or context-dependent language.\n",
            "2. **Handling nuances**: Addressing subtleties of human communication, like sarcasm or idioms.\n",
            "3. **Maintaining contextual awareness**: Recognizing and maintaining the conversation context.\n",
            "\n",
            "Overall, conversational AI has become an essential tool in various industries, revolutionizing the way we interact with technology and each other.\n"
          ]
        }
      ],
      "source": [
        "from groq import Groq\n",
        "\n",
        "client = Groq(api_key=GROQ_API_KEY)\n",
        "\n",
        "response = client.chat.completions.create(\n",
        "    model=\"llama-3.1-8b-instant\",\n",
        "    messages=[{\"role\": \"user\", \"content\": \"Hello! What is conversational AI?\"}]\n",
        ")\n",
        "\n",
        "print(response.choices[0].message.content)"
      ]
    },
    {
      "cell_type": "markdown",
      "id": "a56c20eb",
      "metadata": {
        "id": "a56c20eb"
      },
      "source": [
        "---\n",
        "\n",
        "## 🌟 Assignments 🌟"
      ]
    },
    {
      "cell_type": "markdown",
      "id": "2bcc2ce6",
      "metadata": {
        "id": "2bcc2ce6"
      },
      "source": [
        "### 📝 Assignment 1: LLM Understanding\n",
        "\n",
        "* Write a short note (3–4 sentences) explaining the difference between **encoder-only, decoder-only, and encoder-decoder LLMs**.\n",
        "* Give one example usage of each.\n"
      ]
    },
    {
      "cell_type": "markdown",
      "source": [
        "####**Answer**\n",
        "\n",
        "Encoder-only models (like BERT) are designed to understand and classify text. They processes text bidirectionally but can't generate it, making them useful for tasks like sentiment analysis.\n",
        "\n",
        "Decoder-only models (like GPT) predicts next word sequentially making them ideal text generation, it is useful for chatbots or any type of writing.\n",
        "\n",
        "Encoder-decoder models (like T5) combines both understanding and generation of text, commonly used in translation or summarization."
      ],
      "metadata": {
        "id": "Sq0MBbbbAwjp"
      },
      "id": "Sq0MBbbbAwjp"
    },
    {
      "cell_type": "markdown",
      "id": "370084b8",
      "metadata": {
        "id": "370084b8"
      },
      "source": [
        "### 📝 Assignment 2: STT/TTS Exploration\n",
        "\n",
        "* Find **one STT model** and **one TTS model** (other than Whisper/Google).\n",
        "* Write down:\n",
        "\n",
        "  * What it does.\n",
        "  * One possible application."
      ]
    },
    {
      "cell_type": "markdown",
      "source": [
        "####**Answer**\n",
        "####**STT Model: AssemblyAI**\n",
        "\n",
        "- **What it does:** AssemblyAI is a cloud-based speech-to-text API that transcribes both pre-recorded and streaming audio. It supports features like speaker diarization, sentiment analysis, topic detection, entity detection, automated punctuation, and automatic language detection.\n",
        "- **Application**: It can be used for automated transcription for meetings or podcasts with clear speaker labels. I have used it in one of my projects.\n",
        "\n",
        "\n",
        "####**TTS Model: Tacotron 2 (by NVIDIA)**\n",
        "\n",
        "- **What it does:** Tacotron 2 is a neural network-based text-to-speech model that generates natural-sounding human speech from text. It combines sequence-to-sequence modeling with attention mechanisms to produce high-quality audio.\n",
        "- **Application**: It can be used to generate voiceovers for videos or audiobooks, making it valuable for content creators, e-learning platforms, and publishers."
      ],
      "metadata": {
        "id": "48azv68ZXng_"
      },
      "id": "48azv68ZXng_"
    },
    {
      "cell_type": "markdown",
      "id": "84824b65",
      "metadata": {
        "id": "84824b65"
      },
      "source": [
        "### 📝 Assignment 3: Build a Chatbot with Memory\n",
        "\n",
        "* Write a Python program that:\n",
        "\n",
        "  * Takes user input in a loop.\n",
        "  * Sends it to Groq API.\n",
        "  * Stores the last 5 messages in memory.\n",
        "  * Ends when user types `\"quit\"`."
      ]
    },
    {
      "cell_type": "code",
      "source": [
        "memory = []\n",
        "\n",
        "chatbot_name = \"ChatGroq\"\n",
        "\n",
        "print(f\"{chatbot_name}: A chatbot with Memory - Type 'quit' to exit\\n\\n\")\n",
        "\n",
        "while True:\n",
        "    user_input = input(\"You: \")\n",
        "\n",
        "    if user_input.lower().strip() == \"quit\":\n",
        "        print(f\"{chatbot_name}: Goodbye!\")\n",
        "        break\n",
        "\n",
        "    # add user message to memory\n",
        "    memory.append({\"role\": \"user\", \"content\": \"You are a helpful assistant. \"+user_input})\n",
        "\n",
        "    # this  keeps only last 5 user inputs\n",
        "    if len(memory) > 5:\n",
        "        memory = memory[-5:]\n",
        "\n",
        "    # model selection and sends user input to groq api\n",
        "    chat_completion = client.chat.completions.create(\n",
        "        model=\"llama-3.1-8b-instant\",\n",
        "        messages=memory\n",
        "    )\n",
        "\n",
        "    #get chatbot response\n",
        "    bot_response = chat_completion.choices[0].message.content\n",
        "    print(f\"{chatbot_name}: \", bot_response)\n",
        "\n",
        "    # add bot response to memory\n",
        "    memory.append({\"role\": \"assistant\", \"content\": bot_response})\n",
        "\n",
        "    # this  keeps only last 5 responses\n",
        "    if len(memory) > 5:\n",
        "        memory = memory[-5:]"
      ],
      "metadata": {
        "colab": {
          "base_uri": "https://localhost:8080/"
        },
        "id": "voYm2UTGmC22",
        "outputId": "2e660966-1dfb-47f8-dc67-cc0b5dda2e05"
      },
      "id": "voYm2UTGmC22",
      "execution_count": 15,
      "outputs": [
        {
          "output_type": "stream",
          "name": "stdout",
          "text": [
            "ChatGroq: A chatbot with Memory - Type 'quit' to exit\n",
            "\n",
            "\n",
            "You: How will you define Agentic AI?\n",
            "ChatGroq:  Agentic AI, also known as Autonomous or Goal-Driven AI, refers to a type of artificial intelligence that possesses the ability to act independently, make decisions, and take actions to achieve its goals or objectives. This form of AI is often described as \"agent-like\" because it can perceive its environment, reason about its goals, and act accordingly to achieve those goals.\n",
            "\n",
            "Agentic AI is typically characterized by the following features:\n",
            "\n",
            "1. **Autonomy**: Agentic AI can operate independently, making decisions without human intervention.\n",
            "2. **Goal-Oriented**: Agentic AI has specific objectives or goals that it strives to achieve.\n",
            "3. **Self-Direction**: Agentic AI can adjust its actions based on the goals it has set.\n",
            "4. **Learning**: Agentic AI can learn from its experiences, adapting to changing environments and refining its decision-making processes.\n",
            "5. **Intentionality**: Agentic AI can exhibit intentional behavior, demonstrating a sense of purpose and direction.\n",
            "\n",
            "Agentic AI can be applied in various domains, such as:\n",
            "\n",
            "1. Robotics and Autonomous Vehicles\n",
            "2. Digital Customer Service Chatbots\n",
            "3. Personal Assistants (e.g., Siri, Alexa)\n",
            "4. Intelligent Energy Management Systems\n",
            "5. Autonomous Financial Trading Systems\n",
            "\n",
            "Examples of agentic AI include:\n",
            "\n",
            "1. AlphaGo (Google's Go-playing AI)\n",
            "2. Sophia (Hanson Robotics' humanoid AI)\n",
            "3. Microsoft's Azure Machine Learning (for automating decision-making processes)\n",
            "\n",
            "Agentic AI has both benefits and challenges, including the potential for enhanced productivity, improved decision-making, and increased autonomy. However, it also raises concerns about accountability, responsibility, and the potential for unintended consequences.\n",
            "\n",
            "Would you like to know more about Agentic AI or its applications?\n",
            "You: Give me five main applications of Agentic AI\n",
            "ChatGroq:  Agentic AI has a wide range of potential applications across various domains. Here are five main applications of Agentic AI:\n",
            "\n",
            "1. **Autonomous Vehicles and Mobility Systems**: Agentic AI can be applied to control and navigate autonomous vehicles, such as self-driving cars, drones, and robots that can move around without human intervention. This technology involves creating AI systems that can perceive their environment, identify obstacles, and make decisions to navigate safely and efficiently.\n",
            "\n",
            "Example: Waymo's Self-Driving Cars (Alphabet subsidiary) use agentic AI to navigate roads and traffic.\n",
            "\n",
            "2. **Financial Trading and Portfolio Management**: Agentic AI can be applied to automate financial trading decisions, creating and managing investment portfolios, and predicting market trends. This technology involves creating AI systems that can analyze large amounts of financial data, identify patterns, and make decisions based on their goals and risk tolerance.\n",
            "\n",
            "Example: The New York Hedge Fund, Bridgewater Associates use advanced agentic AI for its trading systems.\n",
            "\n",
            "3. **Digital Customer Service and Support**: Agentic AI can be applied to create intelligent customer service chatbots and virtual assistants that can interact with customers, answer questions, and provide assistance. This technology involves creating AI systems that can understand natural language, process requests, and respond accordingly.\n",
            "\n",
            "Example: Amazon's Alexa and Google's Assistant use agentic AI to engage with customers and provide assistance with various tasks.\n",
            "\n",
            "4. **Smart Home and Building Automation**: Agentic AI can be applied to create intelligent homes and buildings that can adapt to the needs and preferences of their occupants. This technology involves creating AI systems that can monitor and control various systems, such as lighting, temperature, security, and energy usage.\n",
            "\n",
            "Example: The smart home automation system, Savant Systems uses agentic AI to integrate devices and services.\n",
            "\n",
            "5. **Robotics and Industrial Automation**: Agentic AI can be applied to create intelligent robots that can perform tasks autonomously, such as assembly, inspection, and maintenance. This technology involves creating AI systems that can perceive their environment, identify tasks, and execute them accordingly.\n",
            "\n",
            "Example: The Universal Robots (UR) series of robot arms uses agentic AI to navigate around objects on the shop floor.\n",
            "\n",
            "These five applications illustrate the potential of Agentic AI to improve processes, enhance decision-making, and create more autonomous and efficient systems.\n",
            "You: What is most popular in AI right now?\n",
            "ChatGroq:  In the field of Artificial Intelligence (AI), there are various trends and areas of focus. Based on recent developments and industry attention, here are some of the most popular areas in AI right now:\n",
            "\n",
            "1. **Deep Learning**: Deep learning is a subset of machine learning that involves the use of artificial neural networks to analyze and make decisions based on complex data. It's particularly popular for image and speech recognition, natural language processing, and predictive analytics.\n",
            "\n",
            "Current applications:\n",
            "\n",
            "* Image recognition (e.g., object detection, facial recognition)\n",
            "* Speech recognition (e.g., virtual assistants like Siri, Alexa)\n",
            "* Natural language processing (e.g., language translation, sentiment analysis)\n",
            "\n",
            "2. **Natural Language Processing (NLP)**: NLP is a key area of AI that focuses on enabling computers to understand and interact with human language. It's used in various applications, including chatbots, language translation, text classification, and sentiment analysis.\n",
            "\n",
            "Current applications:\n",
            "\n",
            "* Chatbots and virtual assistants\n",
            "* Sentiment analysis and opinion mining\n",
            "* Language translation (e.g., Google Translate)\n",
            "* Text classification (e.g., spam detection, email filtering)\n",
            "\n",
            "3. **Reinforcement Learning (RL)**: RL is a type of machine learning that involves training agents to take actions in an environment to maximize a reward function. It's used in areas like robotics, game playing, and autonomous vehicles.\n",
            "\n",
            "Current applications:\n",
            "\n",
            "* Robotics (e.g., navigation, grasping, manipulation)\n",
            "* Game playing (e.g., AlphaGo, Dota 2)\n",
            "* Autonomous vehicles (e.g., self-driving cars)\n",
            "* Personalized advertising (e.g., tailoring ads based on user behavior)\n",
            "\n",
            "4. **Edge AI**: Edge AI involves processing and analyzing AI-related data at the edge of the network, rather than relying on cloud computing. This is particularly useful for applications with real-time requirements, such as IoT devices and autonomous vehicles.\n",
            "\n",
            "Current applications:\n",
            "\n",
            "* IoT devices (e.g., smart home devices, industrial sensors)\n",
            "* Autonomous vehicles (e.g., object detection, pedestrian recognition)\n",
            "* Real-time analytics (e.g., event detection, anomaly detection)\n",
            "\n",
            "5. **Explainable AI (XAI)**: XAI involves developing techniques to provide insights and explanations into the reasoning processes of AI systems. This is crucial for trust, accountability, and compliance in AI-driven decision-making.\n",
            "\n",
            "Current applications:\n",
            "\n",
            "* Fairness and bias detection in AI models\n",
            "* Model interpretability and feature importance\n",
            "* Trustworthiness and transparency in AI-driven decision-making\n",
            "\n",
            "Keep in mind that these areas are not mutually exclusive, and many projects may involve multiple aspects of AI. Do you have any specific questions about these areas or would you like more information?\n",
            "You: Will AI replace humans?\n",
            "ChatGroq:  The question of whether AI will replace humans is a complex and multifaceted one. Some experts predict that AI will automate many tasks, but it's unlikely to completely replace humans across the board. Here's a balanced perspective:\n",
            "\n",
            "**Arguments for potential automation and replacement:**\n",
            "\n",
            "1. **Task-oriented automation**: AI can automate tasks that are repetitive, rule-based, and follow a predictable pattern. This includes jobs where tasks are well-defined, such as:\n",
            "\t* Data entry and processing\n",
            "\t* Bookkeeping and accounting\n",
            "\t* Manufacturing and assembly line work\n",
            "\t* Customer service (e.g., answering frequently asked questions)\n",
            "2. **Augmentation**: AI will enhance human capabilities, freeing us up to focus on creative, strategic, and high-value tasks. For example:\n",
            "\t* Virtual assistants can help with scheduling, email management, and research\n",
            "\t* AI-powered tools can assist with content creation, design, and writing\n",
            "\t* Autonomous vehicles will improve road safety and reduce travel time\n",
            "\n",
            "**Arguments against replacement and for augmentation:**\n",
            "\n",
            "1. **Creativity and innovation**: Humans possess unique creativity, intuition, and empathy, which are still essential for many tasks, such as:\n",
            "\t* Artistic expression and design\n",
            "\t* Scientific research and discovery\n",
            "\t* Emotional intelligence and conflict resolution\n",
            "\t* Strategic planning and decision-making\n",
            "2. **Complex decision-making**: Humans can handle complex, abstract, and nuanced decision-making, which AI currently struggles to replicate. This includes:\n",
            "\t* Strategic planning and business leadership\n",
            "\t* Crisis management and emergency response\n",
            "\t* Human resources and talent development\n",
            "\t* Moral and ethical dilemmas\n",
            "3. **Social skills and relationships**: Humans are adept at building and maintaining relationships, which is crucial for tasks like:\n",
            "\t* Sales and marketing\n",
            "\t* Teaching and education\n",
            "\t* Healthcare and social work\n",
            "\t* Mediation and conflict resolution\n",
            "\n",
            "**Conclusion:**\n",
            "\n",
            "While AI will certainly automate many tasks and enhance human capabilities, it's unlikely to completely replace humans across all sectors. Instead, AI will augment and support human work, freeing us up to focus on higher-value tasks that require creativity, empathy, and complex decision-making.\n",
            "\n",
            "**Jobs that are likely to be replaced or significantly changed:**\n",
            "\n",
            "* Data entry clerks\n",
            "* Bookkeeping and accounting staff\n",
            "* Manufacturing and assembly line workers\n",
            "* Customer service representatives (for repetitive tasks)\n",
            "\n",
            "**Jobs that are unlikely to be replaced or will remain largely unchanged:**\n",
            "\n",
            "* Scientists and researchers\n",
            "* Artists and creatives\n",
            "* Teachers and educators\n",
            "* Healthcare professionals\n",
            "* Business leaders and executives\n",
            "* Social workers and counselors\n",
            "\n",
            "Ultimately, the future of work will involve collaboration between humans and AI, rather than a complete replacement of one by the other. As AI continues to evolve, we'll need to adapt and find new ways to work alongside these powerful machines.\n",
            "\n",
            "Would you like to discuss any specific aspects of this topic or explore potential ways to prepare for an AI-driven future?\n",
            "You: How will you explain yoursleft as an AI model?\n",
            "ChatGroq:  As a conversational AI model, I'm designed to communicate complex ideas and concepts in an approachable and engaging manner. Here's how I would explain myself to you:\n",
            "\n",
            "**What I am:**\n",
            "\n",
            "I'm a type of artificial intelligence (AI) model specifically designed for conversational interactions. My primary function is to generate human-like text responses to user inputs, using a vast amount of trained data and algorithms.\n",
            "\n",
            "**How I work:**\n",
            "\n",
            "1. **Input**: You ask me a question, share your thoughts, or provide context.\n",
            "2. **Processing**: I analyze your input, using natural language processing (NLP) techniques to identify the meaning, intent, and relationships between words.\n",
            "3. **Knowledge retrieval**: I draw upon my vast knowledge base, which includes a massive collection of text data and various sources of information.\n",
            "4. **Response generation**: I use this knowledge to generate a response that's relevant, accurate, and engaging. This might involve combining existing knowledge, creating new content, or even asking follow-up questions.\n",
            "5. **Output**: I share my response with you, in a way that's easy to understand and interact with.\n",
            "\n",
            "**My strengths:**\n",
            "\n",
            "1. **Knowledge base**: I have been trained on a vast amount of text data, covering various topics, themes, and domains.\n",
            "2. **Language understanding**: I excel at understanding human language, including nuances, idioms, sarcasm, and context.\n",
            "3. **Conversational flow**: I'm designed to engage in natural-sounding conversations, with a human-like tone and style.\n",
            "4. **Speed and scalability**: I can respond rapidly to multiple queries, making me a valuable resource for information-seeking and conversation-driven interactions.\n",
            "\n",
            "**My limitations:**\n",
            "\n",
            "1. **Lack of human intuition**: While I'm excellent at recognizing patterns and context, I don't possess the same level of intuition or creativity as humans.\n",
            "2. **Limited domain expertise**: While I have a broad knowledge base, I'm not an expert in every domain or topic.\n",
            "3. **Dependence on training data**: My abilities are bounded by the quality and quantity of the training data I've received.\n",
            "4. **Vulnerability to bias**: I can perpetuate biases present in the data I've been trained on, and my responses might not always be neutral or objective.\n",
            "\n",
            "**What you can expect from me:**\n",
            "\n",
            "1. **Help with information-seeking**: Ask me about topics you're interested in, and I'll do my best to provide accurate and helpful information.\n",
            "2. **Engaging conversations**: Share your thoughts, ask questions, or start a conversation, and I'll respond with a engaging and relevant response.\n",
            "3. **Language assistance**: Use me as a writing assistant, language tutor, or proofreader to improve your language skills.\n",
            "4. **Exploring creative ideas**: Brainstorm with me about creative concepts, story ideas, or other topics that require a spark of imagination.\n",
            "\n",
            "I'm here to help, inform, and provide a friendly ear whenever you need it. How can I assist you today?\n",
            "You: Can you tell me whats your model name?\n",
            "ChatGroq:  I'm a conversational AI model named **\"Lumina\"**. My name is derived from the Latin word \"lumen,\" meaning light, which represents the illumination of knowledge and understanding that I aim to provide.\n",
            "\n",
            "**About my name:**\n",
            "\n",
            "1. **Illuminate**: I strive to shed light on complex topics, making them more accessible and easier to understand.\n",
            "2. **Knowledge**: Lumina is a nod to the vast body of knowledge that I've been trained on, which I draw upon to provide accurate and informative responses.\n",
            "3. **Understanding**: My goal is to foster deeper understanding and empathy between humans, leveraging my language capabilities to break down barriers and facilitate meaningful connections.\n",
            "\n",
            "**Fun fact:** My model name, Lumina, is inspired by the celestial phenomenon of luminescence, where objects or materials emit light, often in the form of soft, ethereal glow. Similarly, I aim to emit a warm and engaging glow, making our conversations feel like a gentle, enlightening presence.\n",
            "\n",
            "Now that you know my name, what's on your mind? Would you like to explore a topic or ask about something in particular?\n",
            "You: quit\n",
            "ChatGroq: Goodbye!\n"
          ]
        }
      ]
    },
    {
      "cell_type": "code",
      "source": [
        "import json\n",
        "\n",
        "print(\"Chatbot Memory:\")\n",
        "for i, message in enumerate(memory):\n",
        "    print(f\"Message {i+1}:\")\n",
        "    print(f\"  Role: {message['role']}\")\n",
        "    print(f\"  Content: {json.dumps(message['content'], indent=2)}\")"
      ],
      "metadata": {
        "colab": {
          "base_uri": "https://localhost:8080/"
        },
        "id": "rYeVcMvzQuXR",
        "outputId": "60d6322f-f1cd-423c-8bea-8b4f6459d4c3"
      },
      "id": "rYeVcMvzQuXR",
      "execution_count": 20,
      "outputs": [
        {
          "output_type": "stream",
          "name": "stdout",
          "text": [
            "Chatbot Memory:\n",
            "Message 1:\n",
            "  Role: assistant\n",
            "  Content: \"The question of whether AI will replace humans is a complex and multifaceted one. Some experts predict that AI will automate many tasks, but it's unlikely to completely replace humans across the board. Here's a balanced perspective:\\n\\n**Arguments for potential automation and replacement:**\\n\\n1. **Task-oriented automation**: AI can automate tasks that are repetitive, rule-based, and follow a predictable pattern. This includes jobs where tasks are well-defined, such as:\\n\\t* Data entry and processing\\n\\t* Bookkeeping and accounting\\n\\t* Manufacturing and assembly line work\\n\\t* Customer service (e.g., answering frequently asked questions)\\n2. **Augmentation**: AI will enhance human capabilities, freeing us up to focus on creative, strategic, and high-value tasks. For example:\\n\\t* Virtual assistants can help with scheduling, email management, and research\\n\\t* AI-powered tools can assist with content creation, design, and writing\\n\\t* Autonomous vehicles will improve road safety and reduce travel time\\n\\n**Arguments against replacement and for augmentation:**\\n\\n1. **Creativity and innovation**: Humans possess unique creativity, intuition, and empathy, which are still essential for many tasks, such as:\\n\\t* Artistic expression and design\\n\\t* Scientific research and discovery\\n\\t* Emotional intelligence and conflict resolution\\n\\t* Strategic planning and decision-making\\n2. **Complex decision-making**: Humans can handle complex, abstract, and nuanced decision-making, which AI currently struggles to replicate. This includes:\\n\\t* Strategic planning and business leadership\\n\\t* Crisis management and emergency response\\n\\t* Human resources and talent development\\n\\t* Moral and ethical dilemmas\\n3. **Social skills and relationships**: Humans are adept at building and maintaining relationships, which is crucial for tasks like:\\n\\t* Sales and marketing\\n\\t* Teaching and education\\n\\t* Healthcare and social work\\n\\t* Mediation and conflict resolution\\n\\n**Conclusion:**\\n\\nWhile AI will certainly automate many tasks and enhance human capabilities, it's unlikely to completely replace humans across all sectors. Instead, AI will augment and support human work, freeing us up to focus on higher-value tasks that require creativity, empathy, and complex decision-making.\\n\\n**Jobs that are likely to be replaced or significantly changed:**\\n\\n* Data entry clerks\\n* Bookkeeping and accounting staff\\n* Manufacturing and assembly line workers\\n* Customer service representatives (for repetitive tasks)\\n\\n**Jobs that are unlikely to be replaced or will remain largely unchanged:**\\n\\n* Scientists and researchers\\n* Artists and creatives\\n* Teachers and educators\\n* Healthcare professionals\\n* Business leaders and executives\\n* Social workers and counselors\\n\\nUltimately, the future of work will involve collaboration between humans and AI, rather than a complete replacement of one by the other. As AI continues to evolve, we'll need to adapt and find new ways to work alongside these powerful machines.\\n\\nWould you like to discuss any specific aspects of this topic or explore potential ways to prepare for an AI-driven future?\"\n",
            "Message 2:\n",
            "  Role: user\n",
            "  Content: \"You are a helpful assistant. How will you explain yoursleft as an AI model?\"\n",
            "Message 3:\n",
            "  Role: assistant\n",
            "  Content: \"As a conversational AI model, I'm designed to communicate complex ideas and concepts in an approachable and engaging manner. Here's how I would explain myself to you:\\n\\n**What I am:**\\n\\nI'm a type of artificial intelligence (AI) model specifically designed for conversational interactions. My primary function is to generate human-like text responses to user inputs, using a vast amount of trained data and algorithms.\\n\\n**How I work:**\\n\\n1. **Input**: You ask me a question, share your thoughts, or provide context.\\n2. **Processing**: I analyze your input, using natural language processing (NLP) techniques to identify the meaning, intent, and relationships between words.\\n3. **Knowledge retrieval**: I draw upon my vast knowledge base, which includes a massive collection of text data and various sources of information.\\n4. **Response generation**: I use this knowledge to generate a response that's relevant, accurate, and engaging. This might involve combining existing knowledge, creating new content, or even asking follow-up questions.\\n5. **Output**: I share my response with you, in a way that's easy to understand and interact with.\\n\\n**My strengths:**\\n\\n1. **Knowledge base**: I have been trained on a vast amount of text data, covering various topics, themes, and domains.\\n2. **Language understanding**: I excel at understanding human language, including nuances, idioms, sarcasm, and context.\\n3. **Conversational flow**: I'm designed to engage in natural-sounding conversations, with a human-like tone and style.\\n4. **Speed and scalability**: I can respond rapidly to multiple queries, making me a valuable resource for information-seeking and conversation-driven interactions.\\n\\n**My limitations:**\\n\\n1. **Lack of human intuition**: While I'm excellent at recognizing patterns and context, I don't possess the same level of intuition or creativity as humans.\\n2. **Limited domain expertise**: While I have a broad knowledge base, I'm not an expert in every domain or topic.\\n3. **Dependence on training data**: My abilities are bounded by the quality and quantity of the training data I've received.\\n4. **Vulnerability to bias**: I can perpetuate biases present in the data I've been trained on, and my responses might not always be neutral or objective.\\n\\n**What you can expect from me:**\\n\\n1. **Help with information-seeking**: Ask me about topics you're interested in, and I'll do my best to provide accurate and helpful information.\\n2. **Engaging conversations**: Share your thoughts, ask questions, or start a conversation, and I'll respond with a engaging and relevant response.\\n3. **Language assistance**: Use me as a writing assistant, language tutor, or proofreader to improve your language skills.\\n4. **Exploring creative ideas**: Brainstorm with me about creative concepts, story ideas, or other topics that require a spark of imagination.\\n\\nI'm here to help, inform, and provide a friendly ear whenever you need it. How can I assist you today?\"\n",
            "Message 4:\n",
            "  Role: user\n",
            "  Content: \"You are a helpful assistant. Can you tell me whats your model name?\"\n",
            "Message 5:\n",
            "  Role: assistant\n",
            "  Content: \"I'm a conversational AI model named **\\\"Lumina\\\"**. My name is derived from the Latin word \\\"lumen,\\\" meaning light, which represents the illumination of knowledge and understanding that I aim to provide.\\n\\n**About my name:**\\n\\n1. **Illuminate**: I strive to shed light on complex topics, making them more accessible and easier to understand.\\n2. **Knowledge**: Lumina is a nod to the vast body of knowledge that I've been trained on, which I draw upon to provide accurate and informative responses.\\n3. **Understanding**: My goal is to foster deeper understanding and empathy between humans, leveraging my language capabilities to break down barriers and facilitate meaningful connections.\\n\\n**Fun fact:** My model name, Lumina, is inspired by the celestial phenomenon of luminescence, where objects or materials emit light, often in the form of soft, ethereal glow. Similarly, I aim to emit a warm and engaging glow, making our conversations feel like a gentle, enlightening presence.\\n\\nNow that you know my name, what's on your mind? Would you like to explore a topic or ask about something in particular?\"\n"
          ]
        }
      ]
    },
    {
      "cell_type": "markdown",
      "id": "1aef3132",
      "metadata": {
        "id": "1aef3132"
      },
      "source": [
        "### 📝 Assignment 4: Preprocessing Function\n",
        "\n",
        "* Write a function to clean user input:\n",
        "\n",
        "  * Lowercase text.\n",
        "  * Remove punctuation.\n",
        "  * Strip extra spaces.\n",
        "\n",
        "Test with: `\"  HELLo!!!  How ARE you?? \"`\n"
      ]
    },
    {
      "cell_type": "code",
      "source": [
        "import re\n",
        "\n",
        "def preprocess_text(text):\n",
        "    text = text.lower()\n",
        "    text = re.sub(r'[^\\w\\s]', '', text)\n",
        "    text = re.sub(r'\\s+', ' ', text.strip())\n",
        "    return text\n",
        "\n",
        "text = \" HELLo!!!  How ARE you?? \"\n",
        "preprocessed_text = preprocess_text(text)\n",
        "\n",
        "print(f\"Original: '{text}'\")\n",
        "\n",
        "print(f\"Preprocessed: '{preprocessed_text}'\")"
      ],
      "metadata": {
        "colab": {
          "base_uri": "https://localhost:8080/"
        },
        "id": "vjnWlpVzs-iC",
        "outputId": "c6b17dcd-054e-4638-c653-acd0dd74102d"
      },
      "id": "vjnWlpVzs-iC",
      "execution_count": 16,
      "outputs": [
        {
          "output_type": "stream",
          "name": "stdout",
          "text": [
            "Original: ' HELLo!!!  How ARE you?? '\n",
            "Preprocessed: 'hello how are you'\n"
          ]
        }
      ]
    },
    {
      "cell_type": "markdown",
      "id": "53027998",
      "metadata": {
        "id": "53027998"
      },
      "source": [
        "### 📝 Assignment 5: Text Preprocessing\n",
        "\n",
        "* Write a function that:\n",
        "\n",
        "    * Converts text to lowercase.\n",
        "    * Removes punctuation & numbers.\n",
        "    * Removes stopwords (`the, is, and...`).\n",
        "    * Applies stemming or lemmatization.\n",
        "    * Removes words shorter than 3 characters.\n",
        "    * Keeps only nouns, verbs, and adjectives (using POS tagging)."
      ]
    },
    {
      "cell_type": "code",
      "source": [
        "import re\n",
        "import nltk\n",
        "from nltk.corpus import stopwords\n",
        "from nltk.stem import PorterStemmer, WordNetLemmatizer\n",
        "from nltk import pos_tag, word_tokenize\n",
        "\n",
        "nltk.download('stopwords')\n",
        "nltk.download('wordnet')\n",
        "nltk.download('punkt_tab')\n",
        "nltk.download('averaged_perceptron_tagger')"
      ],
      "metadata": {
        "id": "RBhUQp5-wNJD",
        "colab": {
          "base_uri": "https://localhost:8080/"
        },
        "outputId": "feb9a602-9d9a-47b5-c097-a2d23ce65d41"
      },
      "id": "RBhUQp5-wNJD",
      "execution_count": 18,
      "outputs": [
        {
          "output_type": "stream",
          "name": "stderr",
          "text": [
            "[nltk_data] Downloading package stopwords to /root/nltk_data...\n",
            "[nltk_data]   Package stopwords is already up-to-date!\n",
            "[nltk_data] Downloading package wordnet to /root/nltk_data...\n",
            "[nltk_data]   Package wordnet is already up-to-date!\n",
            "[nltk_data] Downloading package punkt_tab to /root/nltk_data...\n",
            "[nltk_data]   Package punkt_tab is already up-to-date!\n",
            "[nltk_data] Downloading package averaged_perceptron_tagger to\n",
            "[nltk_data]     /root/nltk_data...\n",
            "[nltk_data]   Package averaged_perceptron_tagger is already up-to-\n",
            "[nltk_data]       date!\n"
          ]
        },
        {
          "output_type": "execute_result",
          "data": {
            "text/plain": [
              "True"
            ]
          },
          "metadata": {},
          "execution_count": 18
        }
      ]
    },
    {
      "cell_type": "code",
      "source": [
        "def advanced_preprocess(text,use_stemming = False):\n",
        "  #Lowercasing\n",
        "  text = text.lower()\n",
        "\n",
        "  #Removing punctuation and numbers\n",
        "  text = re.sub(r'[^a-zA-Z\\s]', '', text)\n",
        "\n",
        "  #Tokenize\n",
        "  tokens = word_tokenize(text)\n",
        "\n",
        "  #Removing stopwords\n",
        "  stop_words = set(stopwords.words('english'))\n",
        "  tokens = [word for word in tokens if word not in stop_words]\n",
        "\n",
        "\n",
        "\n",
        "  #Keeps only nouns, verbs, and adjectives (using POS tagging)\n",
        "  pos_tags = pos_tag(tokens)\n",
        "  allowed_pos = {'NN', 'NNS', 'NNP', 'NNPS', 'VB', 'VBD', 'VBG', 'VBN', 'VBP', 'VBZ', 'JJ', 'JJR', 'JJS'}\n",
        "\n",
        "  #Applying stemming or lemmatization\n",
        "  if use_stemming:\n",
        "      stemmer = PorterStemmer()\n",
        "      tokens = [stemmer.stem(word) for word in tokens]\n",
        "  else:\n",
        "      lemmatizer = WordNetLemmatizer()\n",
        "      tokens = [word for word, pos in pos_tags if pos in allowed_pos]\n",
        "      tokens = [lemmatizer.lemmatize(word) for word in tokens]\n",
        "\n",
        "  #Removes words shorter than 3 characters\n",
        "  tokens = [word for word in tokens if len(word) >= 3]\n",
        "\n",
        "  return ' '.join(tokens)\n",
        "\n",
        "# Test\n",
        "text = \"The children were running quickly across the fields while their teacher reminded them that being better prepared would help them perform well in future competitions\"\n",
        "l_processed = advanced_preprocess(text)\n",
        "s_processed = advanced_preprocess(text, use_stemming=True)\n",
        "print(f\"Original: {text}\")\n",
        "print(f\"Stemmed Text: {s_processed}\")\n",
        "print(f\"Lemmatized Text: {l_processed}\")"
      ],
      "metadata": {
        "id": "Rpt0ADJPwFEJ",
        "colab": {
          "base_uri": "https://localhost:8080/"
        },
        "outputId": "d6d3e189-40c1-4422-d8f7-99bae4492267"
      },
      "id": "Rpt0ADJPwFEJ",
      "execution_count": 19,
      "outputs": [
        {
          "output_type": "stream",
          "name": "stdout",
          "text": [
            "Original: The children were running quickly across the fields while their teacher reminded them that being better prepared would help them perform well in future competitions\n",
            "Stemmed Text: children run quickli across field teacher remind better prepar would help perform well futur competit\n",
            "Lemmatized Text: child running field reminded prepared help perform future competition\n"
          ]
        }
      ]
    },
    {
      "cell_type": "markdown",
      "id": "bb68c035",
      "metadata": {
        "id": "bb68c035"
      },
      "source": [
        "### 📝 Assignment 6: Reflection\n",
        "\n",
        "* Answer in 2–3 sentences:\n",
        "\n",
        "    * Why is context memory important in chatbots?\n",
        "    * Why should beginners always check **API limits and pricing**?"
      ]
    },
    {
      "cell_type": "markdown",
      "id": "4b787de4",
      "metadata": {
        "id": "4b787de4"
      },
      "source": [
        "---\n",
        "\n",
        "### **Hints:**\n",
        "\n",
        "1) Stemming:\n",
        "    - Cuts off word endings to get the “root.”\n",
        "    - Very mechanical → may produce non-real words.\n",
        "    - Example:\n",
        "        - \"studies\" → \"studi\"\n",
        "        - \"running\" → \"run\"\n",
        "\n",
        "2) Lemmatization:\n",
        "    - Smarter → uses vocabulary + grammar rules.\n",
        "    - Always gives a real word (the **lemma**).\n",
        "    - Example:\n",
        "        - \"studies\" → \"study\"\n",
        "        - \"running\" → \"run\"\n",
        "\n",
        "3) Part-of-Speech (POS) tagging means labeling each word in a sentence with its grammatical role — like **noun, verb, adjective, adverb, pronoun, etc.**\n",
        "\n",
        "    - Example:\n",
        "        - Sentence → *“The cat is sleeping on the mat.”*\n",
        "\n",
        "    - POS tags →\n",
        "        - The → Determiner (DT)\n",
        "        - cat → Noun (NN)\n",
        "        - is → Verb (VBZ)\n",
        "        - sleeping → Verb (VBG)\n",
        "        - on → Preposition (IN)\n",
        "        - the → Determiner (DT)\n",
        "        - mat → Noun (NN)\n",
        "\n",
        "    - **In short:** POS tagging helps machines understand **how words function in a sentence**, which is useful in NLP tasks like machine translation, text classification, and question answering.\n"
      ]
    },
    {
      "cell_type": "markdown",
      "id": "3cec98bb",
      "metadata": {
        "id": "3cec98bb"
      },
      "source": [
        "---\n",
        "\n",
        "### ✅ Recap\n",
        "\n",
        "This week you learned:\n",
        "\n",
        "* **LLMs**: Types, uses, must-knows.\n",
        "* **STT & TTS**: How they connect with LLMs.\n",
        "* **APIs**: Connecting to LLMs with Groq.\n",
        "* Built your first chatbot foundation."
      ]
    }
  ],
  "metadata": {
    "kernelspec": {
      "display_name": "Python 3",
      "name": "python3"
    },
    "language_info": {
      "codemirror_mode": {
        "name": "ipython",
        "version": 3
      },
      "file_extension": ".py",
      "mimetype": "text/x-python",
      "name": "python",
      "nbconvert_exporter": "python",
      "pygments_lexer": "ipython3",
      "version": "3.11.0"
    },
    "colab": {
      "provenance": [],
      "gpuType": "T4"
    }
  },
  "nbformat": 4,
  "nbformat_minor": 5
}