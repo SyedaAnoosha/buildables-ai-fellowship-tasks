{
  "cells": [
    {
      "cell_type": "markdown",
      "id": "4c70919b",
      "metadata": {
        "id": "4c70919b"
      },
      "source": [
        "# Introduction to APIs"
      ]
    },
    {
      "cell_type": "markdown",
      "id": "i1aEc9N-BuHt",
      "metadata": {
        "id": "i1aEc9N-BuHt"
      },
      "source": [
        "An **API (Application Programming Interface)** is like a bridge that lets different software systems talk to each other. It defines how requests and responses should be structured, allowing apps to share data or functionality without revealing their internal workings. For example, a weather app uses an API to fetch real-time data from a weather service."
      ]
    },
    {
      "cell_type": "markdown",
      "id": "218cd1e3",
      "metadata": {
        "id": "218cd1e3"
      },
      "source": [
        "## Why Learn APIs?\n",
        "APIs are essential for:\n",
        "- **Data Exchange**: Apps can access and share data (e.g., a web app showing live stock prices).\n",
        "- **Integration**: Connect different services (e.g., linking a payment gateway like Stripe to an e-commerce site).\n",
        "- **Scalable Services**: Build systems where parts (like front-end and back-end) work together efficiently, enabling apps to grow."
      ]
    },
    {
      "cell_type": "markdown",
      "id": "e19e3b8f",
      "metadata": {
        "id": "e19e3b8f"
      },
      "source": [
        "## Types of APIs\n",
        "There are several types of APIs, but we’ll focus on:\n",
        "- **Web APIs**: Used for communication over the internet, typically between a client (like a browser) and a server. Examples include fetching user data or posts from a social media platform.\n",
        "- **Library APIs**: Allow code to use pre-built functions (e.g., Python’s `math` module).\n",
        "- **OS APIs**: Let apps interact with operating systems (e.g., accessing files on Windows).\n",
        "Our lessons will emphasize **Web APIs** because they’re widely used for client-server interactions, like building or connecting web apps."
      ]
    },
    {
      "cell_type": "markdown",
      "id": "5c1e45d2",
      "metadata": {
        "id": "5c1e45d2"
      },
      "source": [
        "# Basic Concepts of APIs"
      ]
    },
    {
      "cell_type": "markdown",
      "id": "ce146422",
      "metadata": {
        "id": "ce146422"
      },
      "source": [
        "## Client-Server Model\n",
        "The **client-server model** is the foundation of how APIs work:\n",
        "- **Client**: The app or device sending a request (e.g., a browser or mobile app).\n",
        "- **Server**: The system that processes the request and sends a response (e.g., a web server with data).\n",
        "For example, when you visit a website, your browser (client) requests data from a server, which responds with the webpage content."
      ]
    },
    {
      "cell_type": "markdown",
      "id": "f53c5481",
      "metadata": {
        "id": "f53c5481"
      },
      "source": [
        "## Endpoints\n",
        "An **endpoint** is a specific URL in an API that represents a resource. Each endpoint handles a particular function.\n",
        "- Example: `https://api.example.com/users` might return a list of users.\n",
        "- Endpoints are like addresses for data or actions (e.g., `/products` for product data, `/orders` for order details)."
      ]
    },
    {
      "cell_type": "markdown",
      "id": "b6aa7425",
      "metadata": {
        "id": "b6aa7425"
      },
      "source": [
        "## Requests and Responses\n",
        "APIs rely on structured communication:\n",
        "- **Requests**: Sent by the client to the server, including:\n",
        "  - **Method**: What action to perform (e.g., GET, POST; covered later).\n",
        "  - **Headers**: Metadata like authentication tokens or content type.\n",
        "  - **Body**: Data sent to the server (e.g., user info in a POST request).\n",
        "- **Responses**: Returned by the server, including:\n",
        "  - **Status Codes**: Indicate success or failure (e.g., `200 OK` for success, `404 Not Found` for missing resources, `500 Internal Server Error` for issues).\n",
        "  - **Body**: Data returned (e.g., a list of users in JSON).\n",
        "Example: A client requests `/users`, and the server responds with a `200 OK` status and a list of users."
      ]
    },
    {
      "cell_type": "markdown",
      "id": "c5b24b0d",
      "metadata": {
        "id": "c5b24b0d"
      },
      "source": [
        "## Data Formats\n",
        "APIs use standard formats to exchange data:\n",
        "- **JSON (JavaScript Object Notation)**: Most common, lightweight, and easy to read. Example:\n",
        "  ```json\n",
        "  {\"id\": 1, \"name\": \"Alice\", \"email\": \"alice@example.com\"}\n",
        "  ```\n",
        "  - Parsed using libraries like Python’s `json` module or JavaScript’s `JSON.parse()`.\n",
        "- **XML (Extensible Markup Language)**: Older, more verbose. Example:\n",
        "  ```xml\n",
        "  <user><id>1</id><name>Alice</name><email>alice@example.com</email></user>\n",
        "  ```\n",
        "  - Less common but still used in legacy systems.\n",
        "- **How to Use**: Clients send data (e.g., JSON in a POST request) and parse responses (e.g., convert JSON to a Python dictionary)."
      ]
    },
    {
      "cell_type": "markdown",
      "id": "a984809b",
      "metadata": {
        "id": "a984809b"
      },
      "source": [
        "# HTTP Methods and Their Usage"
      ]
    },
    {
      "cell_type": "markdown",
      "id": "d65c68bb",
      "metadata": {
        "id": "d65c68bb"
      },
      "source": [
        "HTTP methods define the actions an API can perform on resources. They align with **CRUD** operations (Create, Read, Update, Delete) for managing data."
      ]
    },
    {
      "cell_type": "markdown",
      "id": "231e656b",
      "metadata": {
        "id": "231e656b"
      },
      "source": [
        "### GET\n",
        "- **Purpose**: Retrieve data from a server.\n",
        "- **Characteristics**:\n",
        "  - **Safe**: Doesn’t change server data.\n",
        "  - **Idempotent**: Repeated calls return the same result.\n",
        "- **Example**: `GET /users` fetches a list of users.\n",
        "- **Use Case**: Display a list of products in an online store.\n",
        "\n",
        "### POST\n",
        "- **Purpose**: Create a new resource on the server.\n",
        "- **Characteristics**:\n",
        "  - **Not idempotent**: Multiple calls may create multiple resources.\n",
        "- **Example**: `POST /users` with `{\"name\": \"Alice\", \"email\": \"alice@example.com\"}` adds a new user.\n",
        "- **Use Case**: Submit a new order in an e-commerce app.\n",
        "\n",
        "### PUT\n",
        "- **Purpose**: Update or replace an existing resource entirely.\n",
        "- **Characteristics**:\n",
        "  - **Idempotent**: Repeated calls with the same data produce the same result.\n",
        "- **Example**: `PUT /users/1` with `{\"name\": \"Bob\", \"email\": \"bob@example.com\"}` updates user ID 1’s details.\n",
        "- **Use Case**: Update a user’s full profile in a system.\n",
        "\n",
        "### PATCH\n",
        "- **Purpose**: Partially update a resource (modify specific fields).\n",
        "- **Characteristics**:\n",
        "  - **Idempotent**: Repeated calls with the same data yield the same result.\n",
        "- **Example**: `PATCH /users/1` with `{\"email\": \"newemail@example.com\"}` changes only the email.\n",
        "- **Use Case**: Update a single field, like a user’s phone number.\n",
        "\n",
        "### DELETE\n",
        "- **Purpose**: Remove a resource from the server.\n",
        "- **Characteristics**:\n",
        "  - **Idempotent**: Repeated calls have the same effect (resource stays deleted).\n",
        "- **Example**: `DELETE /users/1` removes user ID 1.\n",
        "- **Use Case**: Delete a blog post or cancel an order.\n",
        "\n",
        "### Other Methods\n",
        "- **HEAD**: Retrieves metadata (like headers) without the response body.\n",
        "  - **Use Case**: Check if a resource exists or its size before downloading.\n",
        "  - **Example**: `HEAD /users/1` to verify user existence.\n",
        "- **OPTIONS**: Lists supported HTTP methods for an endpoint.\n",
        "  - **Use Case**: Discover what actions an API allows (e.g., check if `POST` is supported).\n",
        "  - **Example**: `OPTIONS /users` returns allowed methods like `GET`, `POST`.\n",
        "\n",
        "### When to Use for CRUD\n",
        "- **Create**: Use `POST` to add new resources.\n",
        "- **Read**: Use `GET` to retrieve data.\n",
        "- **Update**: Use `PUT` for full updates, `PATCH` for partial updates.\n",
        "- **Delete**: Use `DELETE` to remove resources."
      ]
    },
    {
      "cell_type": "markdown",
      "id": "nd2d4cFyBuH6",
      "metadata": {
        "id": "nd2d4cFyBuH6"
      },
      "source": [
        "These methods form the backbone of RESTful APIs, ensuring predictable and standardized interactions."
      ]
    },
    {
      "cell_type": "markdown",
      "id": "bfceae53",
      "metadata": {
        "id": "bfceae53"
      },
      "source": [
        "# REST APIs"
      ]
    },
    {
      "cell_type": "markdown",
      "id": "71e70f8c",
      "metadata": {
        "id": "71e70f8c"
      },
      "source": [
        "## Principles of REST\n",
        "REST (Representational State Transfer) is an architectural style for designing web APIs, based on these key principles:\n",
        "- **Stateless**: Each request from a client to the server must contain all the information needed to process it. The server doesn’t store client state between requests. Example: A request to `/users/1` always fetches user 1’s data, regardless of prior requests.\n",
        "- **Uniform Interface**: APIs use standard conventions (e.g., HTTP methods like GET, POST) for consistency. Resources are accessed via unique URIs (e.g., `/products/123`).\n",
        "- **Resource-Based (URIs)**: Data and functionality are organized as resources, identified by URLs (e.g., `/orders` for order data).\n",
        "- **Representations (JSON/XML)**: Resources are sent or received in formats like JSON or XML. Example: A user resource might be `{\"id\": 1, \"name\": \"Alice\"}` in JSON.\n",
        "- **Layered System**: The API can have intermediary layers (e.g., proxies, load balancers) for scalability or security, transparent to the client."
      ]
    },
    {
      "cell_type": "markdown",
      "id": "f5d27e6e",
      "metadata": {
        "id": "f5d27e6e"
      },
      "source": [
        "## Advantages\n",
        "- **Scalable**: Statelessness and layering allow systems to handle many users by adding servers.\n",
        "- **Easy to Cache**: Responses (e.g., GET requests) can be cached to improve performance.\n",
        "- **Follows HTTP Standards**: Uses standard HTTP methods and status codes, making it widely compatible and easy to understand."
      ]
    },
    {
      "cell_type": "markdown",
      "id": "CgNhmjvdBuH8",
      "metadata": {
        "id": "CgNhmjvdBuH8"
      },
      "source": [
        "## Usage\n",
        "REST APIs power web services by enabling client-server communication:\n",
        "- **Social Media Feeds**: Platforms like Twitter use REST APIs to fetch posts or user profiles (e.g., GET `/tweets` for recent tweets).\n",
        "- **E-commerce Backends**: Online stores use REST APIs to manage products, orders, and payments (e.g., POST `/orders` to create an order).\n",
        "- **Real-World Examples**:\n",
        "  - **GitHub API**: Developers use `GET /repos/{owner}/{repo}` to retrieve repository details or `POST /repos` to create a new repository.\n",
        "  - **Stripe API**: Businesses use `POST /charges` to process payments or `GET /customers` to fetch customer data.\n",
        "\n",
        "These APIs allow apps to integrate with external services, enabling features like displaying GitHub stats or processing payments in an app."
      ]
    },
    {
      "cell_type": "markdown",
      "id": "547835bb",
      "metadata": {
        "id": "547835bb"
      },
      "source": [
        "# Building APIs with Flask"
      ]
    },
    {
      "cell_type": "markdown",
      "id": "28bb436f",
      "metadata": {
        "id": "28bb436f"
      },
      "source": [
        "## Overview\n",
        "**Flask** is a lightweight Python web framework ideal for building simple APIs. It’s easy to learn and perfect for small projects or prototypes due to its minimal setup and flexibility."
      ]
    },
    {
      "cell_type": "markdown",
      "id": "1ae63843",
      "metadata": {
        "id": "1ae63843"
      },
      "source": [
        "## Setup\n",
        "To get started with Flask:\n",
        "1. Install Flask: Run `pip install flask` in your terminal.\n",
        "2. Basic App Structure: Create a Python file (e.g., `app.py`) with the following setup:\n",
        "   ```python\n",
        "   from flask import Flask\n",
        "\n",
        "   app = Flask(__name__)\n",
        "\n",
        "   if __name__ == '__main__':\n",
        "       app.run(debug=True)\n",
        "   ```\n",
        "   - `Flask(__name__)` creates the Flask app instance.\n",
        "   - `app.run(debug=True)` starts the server in development mode."
      ]
    },
    {
      "cell_type": "markdown",
      "id": "07f3d843",
      "metadata": {
        "id": "07f3d843"
      },
      "source": [
        "## Usage\n",
        "Flask uses **routes** to define API endpoints:\n",
        "- Define routes with the `@app.route('/endpoint', methods=['GET'])` decorator.\n",
        "- Use `jsonify` to return JSON responses.\n",
        "- Example: Create a route to handle GET requests:\n",
        "  ```python\n",
        "  from flask import jsonify\n",
        "\n",
        "  @app.route('/hello', methods=['GET'])\n",
        "  def hello():\n",
        "      return jsonify({\"message\": \"Hello, World!\"})\n",
        "  ```\n",
        "- Run the app and visit `http://localhost:5000/hello` to see `{\"message\": \"Hello, World!\"}`."
      ]
    },
    {
      "cell_type": "markdown",
      "id": "725ef088",
      "metadata": {
        "id": "725ef088"
      },
      "source": [
        "## Pros\n",
        "- **Minimalist**: Simple to set up with minimal code.\n",
        "\n",
        "**Flexible**: Easy to customize for small projects or prototypes.\n",
        "- **Beginner-Friendly**: Straightforward syntax and clear documentation make it accessible for students.\n",
        "\n",
        "## Example: Simple GET Endpoint\n",
        "Below is a complete Flask API with a GET endpoint returning \"Hello, World!\":"
      ]
    },
    {
      "cell_type": "code",
      "execution_count": null,
      "id": "5bc6f76b",
      "metadata": {
        "colab": {
          "base_uri": "https://localhost:8080/"
        },
        "id": "5bc6f76b",
        "outputId": "2e6d1e14-347e-4d0c-a896-180f0adf6e27"
      },
      "outputs": [
        {
          "name": "stdout",
          "output_type": "stream",
          "text": [
            " * Serving Flask app '__main__'\n",
            " * Debug mode: on\n"
          ]
        },
        {
          "name": "stderr",
          "output_type": "stream",
          "text": [
            "INFO:werkzeug:\u001b[31m\u001b[1mWARNING: This is a development server. Do not use it in a production deployment. Use a production WSGI server instead.\u001b[0m\n",
            " * Running on http://127.0.0.1:5000\n",
            "INFO:werkzeug:\u001b[33mPress CTRL+C to quit\u001b[0m\n",
            "INFO:werkzeug: * Restarting with watchdog (inotify)\n"
          ]
        }
      ],
      "source": [
        "from flask import Flask, jsonify\n",
        "\n",
        "app = Flask(__name__)\n",
        "\n",
        "@app.route('/hello', methods=['GET'])\n",
        "def hello():\n",
        "    return jsonify({\"message\": \"Hello, World!\"})\n",
        "\n",
        "if __name__ == '__main__':\n",
        "    app.run(debug=True)"
      ]
    },
    {
      "cell_type": "markdown",
      "id": "39986bef",
      "metadata": {
        "id": "39986bef"
      },
      "source": [
        "To test:\n",
        "1. Save the code as `app.py`.\n",
        "2. Run `python app.py`.\n",
        "3. Visit `http://localhost:8000/docs` to test the endpoint interactively or use `curl http://localhost:8000/hello` to see `{\"message\": \"Hello, World!\"}`.\n",
        "4. The Pydantic `Message` model ensures the response adheres to the defined structure.\n",
        "\n",
        "This example shows how FastAPI combines simplicity, type safety, and automatic documentation for efficient API development."
      ]
    },
    {
      "cell_type": "markdown",
      "id": "95b69ac5",
      "metadata": {
        "id": "95b69ac5"
      },
      "source": [
        "# Differences Between Flask, FastAPI, and REST APIs"
      ]
    },
    {
      "cell_type": "markdown",
      "id": "a32ac3e4",
      "metadata": {
        "id": "a32ac3e4"
      },
      "source": [
        "## REST APIs\n",
        "- **Definition**: REST (Representational State Transfer) is an **architectural style**, not a framework. It defines principles for designing web APIs (stateless, resource-based, using HTTP methods).\n",
        "- **Role**: Both Flask and FastAPI can implement RESTful APIs by following REST principles (e.g., using GET for retrieval, POST for creation).\n",
        "- **Key Point**: REST is the design pattern, while Flask and FastAPI are tools to build APIs adhering to it."
      ]
    },
    {
      "cell_type": "markdown",
      "id": "8aed7247",
      "metadata": {
        "id": "8aed7247"
      },
      "source": [
        "## Flask vs. FastAPI\n",
        "- **Flask**:\n",
        "  - **Nature**: Synchronous, lightweight Python framework.\n",
        "  - **Strengths**: Simple to use, minimal setup, ideal for beginners and quick prototypes.\n",
        "  - **Weaknesses**:\n",
        "    - Lacks built-in async support, less efficient for high-traffic apps.\n",
        "    - Manual documentation (no auto-generated Swagger UI).\n",
        "    - No built-in data validation; requires additional libraries.\n",
        "  - **Example**: A small API for a blog with basic GET/POST endpoints.\n",
        "- **FastAPI**:\n",
        "  - **Nature**: Asynchronous, modern Python framework with type hints.\n",
        "  - **Strengths**:\n",
        "    - High performance due to async/await support, ideal for heavy traffic.\n",
        "    - Auto-generates interactive docs (Swagger UI).\n",
        "    - Built-in data validation using Pydantic models.\n",
        "  - **Weaknesses**: Slightly steeper learning curve due to type hints and async concepts.\n",
        "  - **Example**: A real-time chat API handling multiple concurrent users."
      ]
    },
    {
      "cell_type": "markdown",
      "id": "pO9CcdmoBuIA",
      "metadata": {
        "id": "pO9CcdmoBuIA"
      },
      "source": [
        "## Usage Scenarios\n",
        "- **Flask**: Best for **quick MVPs** (Minimum Viable Products) or small projects where simplicity is key. Example: A prototype for a to-do list API.\n",
        "- **FastAPI**: Ideal for **scalable, real-time applications** requiring high performance or automatic validation/docs. Example: A production API for an e-commerce platform with heavy user traffic.\n",
        "- **REST**: The design pattern for both, ensuring standardized, scalable, and predictable APIs. Use REST principles in Flask or FastAPI to structure endpoints (e.g., `/users` for user data, `/orders` for orders)."
      ]
    },
    {
      "cell_type": "code",
      "execution_count": null,
      "id": "hA924uVtDZiQ",
      "metadata": {
        "colab": {
          "base_uri": "https://localhost:8080/"
        },
        "id": "hA924uVtDZiQ",
        "outputId": "37c31fe3-9743-42be-d931-bfa483a52e4e"
      },
      "outputs": [
        {
          "name": "stdout",
          "output_type": "stream",
          "text": [
            "Requirement already satisfied: flask in /usr/local/lib/python3.12/dist-packages (3.1.2)\n",
            "Requirement already satisfied: blinker>=1.9.0 in /usr/local/lib/python3.12/dist-packages (from flask) (1.9.0)\n",
            "Requirement already satisfied: click>=8.1.3 in /usr/local/lib/python3.12/dist-packages (from flask) (8.3.0)\n",
            "Requirement already satisfied: itsdangerous>=2.2.0 in /usr/local/lib/python3.12/dist-packages (from flask) (2.2.0)\n",
            "Requirement already satisfied: jinja2>=3.1.2 in /usr/local/lib/python3.12/dist-packages (from flask) (3.1.6)\n",
            "Requirement already satisfied: markupsafe>=2.1.1 in /usr/local/lib/python3.12/dist-packages (from flask) (3.0.3)\n",
            "Requirement already satisfied: werkzeug>=3.1.0 in /usr/local/lib/python3.12/dist-packages (from flask) (3.1.3)\n",
            "Requirement already satisfied: fastapi in /usr/local/lib/python3.12/dist-packages (0.119.1)\n",
            "Requirement already satisfied: starlette<0.49.0,>=0.40.0 in /usr/local/lib/python3.12/dist-packages (from fastapi) (0.48.0)\n",
            "Requirement already satisfied: pydantic!=1.8,!=1.8.1,!=2.0.0,!=2.0.1,!=2.1.0,<3.0.0,>=1.7.4 in /usr/local/lib/python3.12/dist-packages (from fastapi) (2.11.10)\n",
            "Requirement already satisfied: typing-extensions>=4.8.0 in /usr/local/lib/python3.12/dist-packages (from fastapi) (4.15.0)\n",
            "Requirement already satisfied: annotated-types>=0.6.0 in /usr/local/lib/python3.12/dist-packages (from pydantic!=1.8,!=1.8.1,!=2.0.0,!=2.0.1,!=2.1.0,<3.0.0,>=1.7.4->fastapi) (0.7.0)\n",
            "Requirement already satisfied: pydantic-core==2.33.2 in /usr/local/lib/python3.12/dist-packages (from pydantic!=1.8,!=1.8.1,!=2.0.0,!=2.0.1,!=2.1.0,<3.0.0,>=1.7.4->fastapi) (2.33.2)\n",
            "Requirement already satisfied: typing-inspection>=0.4.0 in /usr/local/lib/python3.12/dist-packages (from pydantic!=1.8,!=1.8.1,!=2.0.0,!=2.0.1,!=2.1.0,<3.0.0,>=1.7.4->fastapi) (0.4.2)\n",
            "Requirement already satisfied: anyio<5,>=3.6.2 in /usr/local/lib/python3.12/dist-packages (from starlette<0.49.0,>=0.40.0->fastapi) (4.11.0)\n",
            "Requirement already satisfied: idna>=2.8 in /usr/local/lib/python3.12/dist-packages (from anyio<5,>=3.6.2->starlette<0.49.0,>=0.40.0->fastapi) (3.11)\n",
            "Requirement already satisfied: sniffio>=1.1 in /usr/local/lib/python3.12/dist-packages (from anyio<5,>=3.6.2->starlette<0.49.0,>=0.40.0->fastapi) (1.3.1)\n"
          ]
        }
      ],
      "source": [
        "!pip install flask\n",
        "!pip install fastapi"
      ]
    },
    {
      "cell_type": "markdown",
      "id": "IrgqpFWyBuIB",
      "metadata": {
        "id": "IrgqpFWyBuIB"
      },
      "source": [
        " # 🌟 Three Simple Coding Tasks for API Development"
      ]
    },
    {
      "cell_type": "markdown",
      "id": "9ced47be",
      "metadata": {
        "id": "9ced47be"
      },
      "source": [
        "## Task 1: Build a Basic RESTful API in Flask\n",
        "**Objective**: Create a Flask API with GET and POST endpoints to manage a to-do list stored in memory.\n",
        "\n",
        "**Requirements**:\n",
        "- **GET /todos**: Return a list of all to-do items.\n",
        "- **POST /todos**: Add a new to-do item with a `task` field in the request body.\n",
        "- Store to-do items in a list (e.g., `[{\"id\": 1, \"task\": \"Buy groceries\"}]`) in memory.\n",
        "- Return JSON responses with appropriate status codes (e.g., 200 OK, 400 Bad Request).\n",
        "- Test using curl or a browser."
      ]
    },
    {
      "cell_type": "code",
      "execution_count": null,
      "id": "wB_5ZGc_D_3F",
      "metadata": {
        "colab": {
          "base_uri": "https://localhost:8080/"
        },
        "id": "wB_5ZGc_D_3F",
        "outputId": "83fc580e-154e-44c7-fb14-e9467f6a8754"
      },
      "outputs": [],
      "source": [
        "from flask import Flask, request, jsonify, url_for\n",
        "\n",
        "app = Flask(__name__)\n",
        "\n",
        "todos = []\n",
        "next_id = 1\n",
        "\n",
        "\n",
        "@app.get(\"/todos\")\n",
        "def get_todos():\n",
        "    return jsonify(todos), 200\n",
        "\n",
        "\n",
        "@app.post(\"/todos\")\n",
        "def add_todo():\n",
        "    if not request.is_json:\n",
        "        return jsonify(error=\"Request body must be JSON\"), 400\n",
        "\n",
        "    data = request.get_json(silent=True)\n",
        "    if not data or \"task\" not in data or not isinstance(data[\"task\"], str) or not data[\"task\"].strip():\n",
        "        return jsonify(error=\"Field 'task' (non-empty string) is required\"), 400\n",
        "\n",
        "    global next_id\n",
        "    item = {\"id\": next_id, \"task\": data[\"task\"].strip()}\n",
        "    next_id += 1\n",
        "    todos.append(item)\n",
        "\n",
        "    response = jsonify(item)\n",
        "    response.status_code = 201\n",
        "\n",
        "    response.headers[\"Location\"] = url_for(\"get_todos\")\n",
        "    return response\n",
        "\n",
        "\n",
        "if __name__ == \"__main__\":\n",
        "    app.run(debug=True, host=\"0.0.0.0\", port=5000)\n",
        "\n",
        "%tb"
      ]
    },
    {
      "cell_type": "markdown",
      "id": "3c9bca4c",
      "metadata": {
        "id": "3c9bca4c"
      },
      "source": [
        "## Task 2: Rewrite Task 1 in FastAPI with Type Hints\n",
        "**Objective**: Rewrite the Flask API from Task 1 using FastAPI, adding type hints and testing via auto-generated docs.\n",
        "\n",
        "**Requirements**:\n",
        "- **GET /todos**: Return the list of to-do items.\n",
        "- **POST /todos**: Add a new to-do with a `task` field, using a Pydantic model for validation.\n",
        "- Use type hints and Pydantic for data validation.\n",
        "- Store to-dos in memory (same structure as Task 1).\n",
        "- Test using FastAPI’s Swagger UI at `/docs`."
      ]
    },
    {
      "cell_type": "code",
      "execution_count": null,
      "id": "5_ub0t-nEYJ9",
      "metadata": {
        "id": "5_ub0t-nEYJ9"
      },
      "outputs": [],
      "source": [
        "from typing import List, Dict, Any\n",
        "\n",
        "from fastapi import FastAPI, HTTPException, Response, status\n",
        "from pydantic import BaseModel, Field\n",
        "\n",
        "app = FastAPI(title=\"FastAPI To-Do API\")\n",
        "\n",
        "class TodoIn(BaseModel):\n",
        "    task: str = Field(..., min_length=1, description=\"The to-do task\")\n",
        "\n",
        "class TodoOut(BaseModel):\n",
        "    id: int\n",
        "    task: str\n",
        "\n",
        "\n",
        "todos: List[Dict[str, Any]] = []\n",
        "next_id: int = 1\n",
        "\n",
        "@app.get(\"/todos\", response_model=List[TodoOut], status_code=status.HTTP_200_OK)\n",
        "def get_todos():\n",
        "    return todos\n",
        "\n",
        "\n",
        "@app.post(\"/todos\", response_model=TodoOut, status_code=status.HTTP_201_CREATED)\n",
        "def add_todo(payload: TodoIn, response: Response):\n",
        "    global next_id\n",
        "\n",
        "    task = payload.task.strip()\n",
        "    if not task:\n",
        "        raise HTTPException(status_code=400, detail=\"Field 'task' must be a non-empty string\")\n",
        "\n",
        "    item = {\"id\": next_id, \"task\": task}\n",
        "    next_id += 1\n",
        "    todos.append(item)\n",
        "\n",
        "    response.headers[\"Location\"] = \"/todos\"\n",
        "    return item\n",
        "\n",
        "\n",
        "if __name__ == \"__main__\":\n",
        "    import uvicorn\n",
        "\n",
        "    uvicorn.run(\"main:app\", host=\"0.0.0.0\", port=8000, reload=True)"
      ]
    },
    {
      "cell_type": "markdown",
      "id": "64507049",
      "metadata": {
        "id": "64507049"
      },
      "source": [
        "## Task 3: Extend Either API with Authentication and DELETE Endpoint\n",
        "**Objective**: Extend the Flask or FastAPI to-do API with a simple API key authentication and a DELETE endpoint.\n",
        "\n",
        "**Requirements**:\n",
        "- Add a simple **API key check** (e.g., check for a header `X-API-Key: secret`).\n",
        "- **DELETE /todos/{id}**: Remove a to-do item by its ID.\n",
        "- Return appropriate status codes (e.g., 404 if ID not found, 401 for invalid API key).\n",
        "- Test using curl or Postman."
      ]
    },
    {
      "cell_type": "code",
      "execution_count": null,
      "id": "83427c7e",
      "metadata": {},
      "outputs": [],
      "source": [
        "from typing import List, Dict, Any, Optional\n",
        "import os\n",
        "\n",
        "from fastapi import FastAPI, HTTPException, Response, status, Header, Depends\n",
        "from pydantic import BaseModel, Field\n",
        "\n",
        "app = FastAPI(title=\"FastAPI To-Do API\")\n",
        "\n",
        "API_KEY = os.getenv(\"TODO_API_KEY\", \"secret\")\n",
        "\n",
        "def verify_api_key(x_api_key: Optional[str] = Header(default=None, alias=\"X-API-Key\")) -> None:\n",
        "    if x_api_key != API_KEY:\n",
        "        raise HTTPException(status_code=status.HTTP_401_UNAUTHORIZED, detail=\"Invalid or missing API key\")\n",
        "\n",
        "class TodoIn(BaseModel):\n",
        "    task: str = Field(..., min_length=1, description=\"The to-do task\")\n",
        "\n",
        "class TodoOut(BaseModel):\n",
        "    id: int\n",
        "    task: str\n",
        "\n",
        "todos: List[Dict[str, Any]] = []\n",
        "next_id: int = 1\n",
        "\n",
        "\n",
        "@app.get(\"/todos\", response_model=List[TodoOut], status_code=status.HTTP_200_OK, dependencies=[Depends(verify_api_key)])\n",
        "def get_todos():\n",
        "    return todos\n",
        "\n",
        "\n",
        "@app.post(\"/todos\", response_model=TodoOut, status_code=status.HTTP_201_CREATED, dependencies=[Depends(verify_api_key)])\n",
        "def add_todo(payload: TodoIn, response: Response):\n",
        "    global next_id\n",
        "\n",
        "    task = payload.task.strip()\n",
        "    if not task:\n",
        "        raise HTTPException(status_code=400, detail=\"Field 'task' must be a non-empty string\")\n",
        "\n",
        "    item = {\"id\": next_id, \"task\": task}\n",
        "    next_id += 1\n",
        "    todos.append(item)\n",
        "\n",
        "    response.headers[\"Location\"] = \"/todos\"\n",
        "    return item\n",
        "\n",
        "\n",
        "@app.delete(\"/todos/{todo_id}\", status_code=status.HTTP_204_NO_CONTENT, dependencies=[Depends(verify_api_key)])\n",
        "def delete_todo(todo_id: int):\n",
        "    \"\"\"\n",
        "    DELETE /todos/{id}: Remove a to-do item by its ID.\n",
        "    - 204 No Content on success\n",
        "    - 404 Not Found if ID doesn't exist\n",
        "    \"\"\"\n",
        "    for idx, item in enumerate(todos):\n",
        "        if item[\"id\"] == todo_id:\n",
        "            del todos[idx]\n",
        "            return Response(status_code=status.HTTP_204_NO_CONTENT)\n",
        "\n",
        "    raise HTTPException(status_code=status.HTTP_404_NOT_FOUND, detail=f\"To-do with id {todo_id} not found\")\n",
        "\n",
        "\n",
        "if __name__ == \"__main__\":\n",
        "    import uvicorn\n",
        "\n",
        "    uvicorn.run(\"main:app\", host=\"0.0.0.0\", port=8000, reload=True)"
      ]
    },
    {
      "cell_type": "markdown",
      "id": "549bcb4e",
      "metadata": {
        "id": "549bcb4e"
      },
      "source": [
        "---"
      ]
    },
    {
      "cell_type": "markdown",
      "id": "9f0e53fd",
      "metadata": {
        "id": "9f0e53fd"
      },
      "source": [
        "### ✨ For my lovely fellows ✨\n",
        "\n",
        "As we complete our final assignment together, I want to take a moment to reflect on this incredible journey. It has been a true pleasure to work with each of you.  No matter where life takes you next, know that I am always here if you need me. You are all amazing and inspiring individuals, and you will forever hold a special place in my heart.\n",
        "\n",
        "All the best for your future! 🌟"
      ]
    }
  ],
  "metadata": {
    "colab": {
      "provenance": []
    },
    "kernelspec": {
      "display_name": "buildables-env",
      "language": "python",
      "name": "python3"
    },
    "language_info": {
      "codemirror_mode": {
        "name": "ipython",
        "version": 3
      },
      "file_extension": ".py",
      "mimetype": "text/x-python",
      "name": "python",
      "nbconvert_exporter": "python",
      "pygments_lexer": "ipython3",
      "version": "3.12.4"
    }
  },
  "nbformat": 4,
  "nbformat_minor": 5
}
