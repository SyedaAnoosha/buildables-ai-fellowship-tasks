{
 "cells": [
  {
   "cell_type": "markdown",
   "id": "852313a3",
   "metadata": {},
   "source": [
    "# **Notebook # 3: ✨ Use AI as a creative or expert partner** 😎 ✨"
   ]
  },
  {
   "cell_type": "markdown",
   "id": "2cc5ad7b",
   "metadata": {},
   "source": [
    "## 📘 **Discover Prompt Chaining**\n",
    "\n",
    "### 📝 Questions for Reflection\n",
    "\n",
    "1. How is prompt chaining similar to solving a jigsaw puzzle?\n",
    "\n",
    "**Answer:**\n",
    "\n",
    "Both involves breaking down a complex problem into smaller and manageable prices which are connnected with each other forming a complete solution.\n",
    "\n",
    "2. What’s the main difference between **iteration** and **chaining**?\n",
    "\n",
    "**Answer:**\n",
    "\n",
    "Iteration is improving a single prompt continuously while chaining is using multiple prompts in sequence, in such a way output of one prompt becomes input to another.\n",
    "\n",
    "3. Why might prompt chaining be more effective than asking AI one big question?\n",
    "\n",
    "**Answer:**\n",
    "\n",
    "By dividing a larger prompt into multiple small prompts we actually increase the context awreness of AI and decrease the memoery load on it. It helps the AI give more accurate ouput.\n",
    "\n",
    "4. How can the **context window** of an AI model affect your chaining strategy?\n",
    "\n",
    "**Answer:**\n",
    "\n",
    "If the AI model has a small context window it may forget earlier steps so we will need to re-add past prompts in later prompts for it to give an accuarte output. With a large context window it remembers more of the eariler conversation making chaining smoother and less repetitive. this makes it feasible for us to play woth new prompts."
   ]
  },
  {
   "cell_type": "markdown",
   "id": "40d7e6f5",
   "metadata": {},
   "source": [
    "##  Exercises : Try It Yourself ❗\n",
    "\n",
    "### Exercise 1: Email Catch-Up\n",
    "\n",
    "Imagine you were away from work for a week. Create a **prompt chain** that does the following:\n",
    "\n",
    "1. Summarizes all your emails.\n",
    "2. Highlights urgent tasks.\n",
    "3. Suggests solutions for the most critical issue.\n",
    "\n",
    "**Answer:**\n",
    "1. Summarize all my emails from past week into bullet points.\n",
    "2. From the summary list urgent tasks with nearing deadlines.\n",
    "3. For the most urgent task suggest 5 practical solutions.\n",
    "\n",
    "### Exercise 2: Research Assistant\n",
    "\n",
    "You’re writing a research paper. Design a chain of prompts to:\n",
    "\n",
    "1. Generate an outline of your paper.\n",
    "2. Suggest three key studies you should cite.\n",
    "3. Draft a short introduction based on the outline and studies.\n",
    "\n",
    "**Answer:**\n",
    "1. Generate a detailed outline for research paper on topic [any-topic]\n",
    "2. Suggest me three primary studies relavant to my topic that must be cited in my paper.\n",
    "3. Using the outline and studies write a 300 words intorduction explaining my topic.\n",
    "\n",
    "### Exercise 3: Business Idea Pitch\n",
    "\n",
    "Pretend you want to launch a new mobile app. Build a prompt chain that:\n",
    "\n",
    "1. Creates a one-sentence pitch.\n",
    "2. Expands it into a short paragraph describing the target audience.\n",
    "3. Generates a three-slide pitch deck outline for investors.\n",
    "\n",
    "**Answer:**\n",
    "1. Write a one-sentence catchy pitch for a new mobile app on [any-topic].\n",
    "2. Expand that pitch into a short paragraph describing the target audience and why they need this\n",
    "3. Convert this into a three-slide pitch deck for investors with answering the main questionsof the problem we solve, solution we provide, target audience, business value, and revenue model\n"
   ]
  }
 ],
 "metadata": {
  "language_info": {
   "name": "python"
  }
 },
 "nbformat": 4,
 "nbformat_minor": 5
}
