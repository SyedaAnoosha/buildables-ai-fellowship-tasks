{
 "cells": [
  {
   "cell_type": "markdown",
   "id": "852313a3",
   "metadata": {},
   "source": [
    "# **Notebook # 3: ✨ Use AI as a creative or expert partner** 😎 ✨"
   ]
  },
  {
   "cell_type": "markdown",
   "id": "2cc5ad7b",
   "metadata": {},
   "source": [
    "## 📘 **Discover Prompt Chaining**\n",
    "\n",
    "### 📝 Questions for Reflection\n",
    "\n",
    "1. How is prompt chaining similar to solving a jigsaw puzzle?\n",
    "\n",
    "**Answer:**\n",
    "\n",
    "Both involves breaking down a complex problem into smaller and manageable prices which are connnected with each other forming a complete solution.\n",
    "\n",
    "2. What’s the main difference between **iteration** and **chaining**?\n",
    "\n",
    "**Answer:**\n",
    "\n",
    "Iteration is improving a single prompt continuously while chaining is using multiple prompts in sequence, in such a way output of one prompt becomes input to another.\n",
    "\n",
    "3. Why might prompt chaining be more effective than asking AI one big question?\n",
    "\n",
    "**Answer:**\n",
    "\n",
    "By dividing a larger prompt into multiple small prompts we actually increase the context awreness of AI and decrease the memoery load on it. It helps the AI give more accurate ouput.\n",
    "\n",
    "4. How can the **context window** of an AI model affect your chaining strategy?\n",
    "\n",
    "**Answer:**\n",
    "\n",
    "If the AI model has a small context window it may forget earlier steps so we will need to re-add past prompts in later prompts for it to give an accuarte output. With a large context window it remembers more of the eariler conversation making chaining smoother and less repetitive. this makes it feasible for us to play woth new prompts."
   ]
  }
 ],
 "metadata": {
  "language_info": {
   "name": "python"
  }
 },
 "nbformat": 4,
 "nbformat_minor": 5
}
