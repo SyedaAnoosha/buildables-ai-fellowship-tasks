{
  "cells": [
    {
      "cell_type": "markdown",
      "metadata": {
        "id": "Fbi69vMCgt--"
      },
      "source": [
        "# **Notebook\\#1: ✨ Start Writing Prompts Like a Pro** 😎 ✨"
      ]
    },
    {
      "cell_type": "markdown",
      "metadata": {
        "id": "dhBOylKbgx-K"
      },
      "source": [
        "## 💭 **Reflection**\n",
        "\n",
        "How could **different modalities** (images, documents, or audio) help you in your own work?\n",
        "\n",
        "*Answer:*\n",
        "\n",
        "These modalities help me a lot when i give the right context. For example if i face a UI bug that is hard to explain i can take a screenshot and send it to the AI model which can identify and fix it. When I read long papers I upload them and ask the model questions such as what the results or discussion mean I have also used audio transcription in my app. it could also be useful for recording lectures and turning them into text later."
      ]
    },
    {
      "cell_type": "markdown",
      "metadata": {
        "id": "kZR8Wsgdg0Rw"
      },
      "source": [
        "## **Prompt Engineering Quiz 💡**\n",
        "\n",
        "### **Question 1**\n",
        "What is prompting?\n",
        "### **Answer:**\n",
        "Prompting is writing clear instructions usually using a framework to let an gen AI model know what the desired output should be. It follows defining a task, format, context, examples and doing evaluation and iteration till we achieve the output of our choice.\n",
        "\n",
        "### **Question 2**\n",
        "In the following prompt, which part describes the primary task?\n",
        "Prompt: *“Explain how car batteries work using non-technical language that someone without any mechanical knowledge could understand and interpret.”*  \n",
        "### **Answer:**\n",
        "Explain how car batteries work.\n",
        "\n",
        "### **Question 3**\n",
        "When you are using a gen AI tool to create a healthy three-course menu that requires a certain number of calories, which prompting element will ensure the menu is more practical?\n",
        "### **Answer:**\n",
        "Constraint would be the most suitable one as we are asking for a certisn number of calories.\n",
        "\n",
        "### **Question 4**\n",
        "Prompting with audio to receive a visual representation is called what?\n",
        "### **Answer:**\n",
        "multimodal prompting\n",
        "\n",
        "### **Question 5**\n",
        "What does a human-in-the-loop approach to prompting emphasize?\n",
        "### **Answer:**\n",
        "a person continuously reviews and validates the AI output before using it as it may or may not be accurate\n",
        "\n",
        "### **Question 6**\n",
        "When the initial prompt \"Create a dataset\" is too broad, what should you do to refine it?\n",
        "\n",
        "### **Answer:**\n",
        "I will start by defining the purpose of the dataset telling what it will be used for then I will tell the format, like what columns it should have, the data type in each column and how many records I want lastly I will add constraints such as not to include any bad or illegal content or make sure numbers stay within a set range\n"
      ]
    }
  ],
  "metadata": {
    "colab": {
      "provenance": [],
      "toc_visible": true
    },
    "kernelspec": {
      "display_name": "Python 3",
      "name": "python3"
    },
    "language_info": {
      "name": "python"
    }
  },
  "nbformat": 4,
  "nbformat_minor": 0
}
